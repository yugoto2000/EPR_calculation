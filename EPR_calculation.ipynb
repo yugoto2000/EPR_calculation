{
 "cells": [
  {
   "cell_type": "code",
   "execution_count": 56,
   "id": "43c0f17f",
   "metadata": {},
   "outputs": [
    {
     "name": "stdout",
     "output_type": "stream",
     "text": [
      "Δν 2669.9725754401993\n",
      "-3.929e-27\n"
     ]
    }
   ],
   "source": [
    "# withizumiEPRの計算をただするだけ\n",
    "#疑惑　ヘリウムの計算をする時にmf=3とmf＝-３の値がスライドと逆になっているがどっちが正しいだろうか\n",
    "##########################################################＃＃＃＃＃＃＃＃ここから定数########################\n",
    "mu_0=1.25663e-6#真空の透磁率mkg/ssAA\n",
    "mu_b=9.27401*(10**-24)#J*T**-1＃ボーア磁子# 猪野さんスライドより\n",
    "mu_N=5.05*10**-27# 核磁子J/T-1＃磁気モーメントの単位\n",
    "g_e=-2.00231#電子シェルのg因子\n",
    "#hbar=1.054571817*10**-34#J・s＃ディラック定数# 使わない\n",
    "h=6.62607*10**-34#Js\n",
    "A=1.01191*10**9 #Hz\n",
    "if(0):########################################Heの時はここを１に、違う時は0に##########################\n",
    "    #gamma_He =32.434*10**6#Hz/T＃ヘリウムの核磁気回転比\n",
    "    #ネットの表から取ってきた値。https://ss.scphys.kyoto-u.ac.jp/person/skitagawa/others/periodic.html\n",
    "    #g_He= gamma_He*hbar/mu_N   # γ=  g _N*mu_N/hbar    wikiより＃こんかいはつかわない\n",
    "    mu_NN= -2.12762531*mu_N#核磁子✖️ヘリウム特有の定数#無次元*J/T＃\n",
    "    #↑ネットの表から取ってきた値　https://www.psi.ch/sites/default/files/import/low-energy-muons/DocumentsEN/nuclear-moments.pdf\n",
    "    I=5/2#He核のスピン\n",
    "    k_0=6.20# 猪野さんスライドより4.52 +0.00934*180度＝1.6812\n",
    "    n_NN=2.68678*10**19*10**6#m-3 1amg#He\n",
    "    amg=3.3\n",
    "    B=2*10**-3#2mT#磁場\n",
    "    P=0.7#偏極率\n",
    "if(1):########################################Xeの時はここを１に、違う時は0に###########################\n",
    "    #gamma_Xe =11.84*10**6#Hz/T＃ヘリウムの核磁気回転比\n",
    "    #g_He= gamma_He*hbar/mu_N   # γ=  g _N*mu_N/hbar    wikiより＃こんかいはつかわない\n",
    "    #mu_NN= -0.7779*mu_N#核磁子✖️キセノン特有の定数(ネットから拾った)#無次元*J/T#Xeこっちつかってもいい\n",
    "    mu_NN=-3.929e-27#がくちゃんのスライドに書いてあった定義#μXe\n",
    "    I=5/2#Xe核のスピン\n",
    "    k_0=518# 猪野さんスライドより4.52 +0.00934*180度＝1.6812\n",
    "    n_NN=0.264*2.68678*10**19*10**6#m-3 1amgあたりの数密度 に129Xeの天然存在比をかけたもの\n",
    "    amg=3.3\n",
    "    B=1.5*10**-3#2mT\n",
    "    P=0.007#偏極率\n",
    "    #########################################################＃＃＃＃＃＃＃＃＃#定数ここまで########################\n",
    "    \n",
    "    \n",
    "def delta_nu(P):#引数＝偏極率\n",
    "    #Δν  = 2*(mu_0)*(mu_b)*(g_e)/(3*(2*I+1))*(1-((8*I*mu_b*g_e*B)/((2*I+1)*(2*I+1)*h*A)))*(k_0*mu_NN*n_NN*amg*P)#マイクロ波の波長\n",
    "    a  = 2*(mu_0)*(mu_b)*(g_e)/(3*(2*I+1))#hで割ってない-7✖️１０−３１\n",
    "    b= (1-((8*I*mu_b*g_e*B)/((2*I+1)*(2*I+1)*h*A)))#ほぼ１。0.99と1.01だった\n",
    "    c=(k_0*mu_NN*n_NN*amg*P)#-1✖️１０−１０\n",
    "    Δν = a*b*c\n",
    "    return Δν\n",
    "\n",
    "\n",
    "x = delta_nu(P)/h*2#これでジュールをHzに直している#上の式で/h\n",
    "print(\"Δν\",x)\n",
    "print(\"magnetic dipole moment\",mu_NN)#μHeとか、μXeとか\n"
   ]
  }
 ],
 "metadata": {
  "kernelspec": {
   "display_name": "Python 3 (ipykernel)",
   "language": "python",
   "name": "python3"
  },
  "language_info": {
   "codemirror_mode": {
    "name": "ipython",
    "version": 3
   },
   "file_extension": ".py",
   "mimetype": "text/x-python",
   "name": "python",
   "nbconvert_exporter": "python",
   "pygments_lexer": "ipython3",
   "version": "3.9.7"
  }
 },
 "nbformat": 4,
 "nbformat_minor": 5
}
